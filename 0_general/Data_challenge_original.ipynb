{
 "cells": [
  {
   "cell_type": "markdown",
   "id": "8e036469-99f6-4a0c-9344-8ff64c450422",
   "metadata": {},
   "source": [
    "# Google Trends - NVIDIA \n",
    "\n",
    "## Bevor es los geht:\n",
    "\n",
    "In dieser Challenge wollen wir uns mit Daten zu Google-Suchen beschäftigen! Google bietet seit vielen Jahren die bekannteste und verbreitetste Suchmaschine an und ist somit für viele Menschen das Tor ins Internet! \n",
    "\n",
    "Entsprechend lassen sich aus dem Suchverhalten viele interessante Aspekte ableiten. Wenn viele Personen nach einem bestimmten Begriff suchen, zeigt das, dass sich gerade viele Menschen mit diesem Begriff beschäftigen. Der Begriff besitzt also eine gewisse gesellschaftliche Aufmerksamkeit. \n",
    "\n",
    "In dieser Challenge soll es darum gehen, über Google Suchanfragen Rückschlüsse über den rapiden Anstieg der  **NVIDIA Aktie** in der letzten Zeit zu ziehen. \n",
    "NVIDIA ist kürzlich zum wertvollsten börsennotierten Unternehmen geworden und hat damit Microsoft überholt. Solche „Wachablösungen“ stehen häufig im Zusammenhang mit technologischen oder gesellschaftlichen Entwicklungen. Zum Beispiel wurde Apple Ende der 2000er Jahre zum wertvollsten Unternehmen, nachdem es erfolgreiche Consumer-Electronic-Produkte wie den iPod, das iPhone und das iPad auf den Markt gebracht hatte. \n",
    "\n",
    "Wir möchten, dass möglichst viele Personen an der Challenge teilnehmen! Daher möchten wir möglichst wenig Einstiegsbarrieren haben. \n",
    "\n",
    "Du kannst die Challenge direkt hier in Python absolvieren, aber wenn du noch nie mit Python oder Programmiersprachen gearbeitet hast, zeigen wir dir später auch, wie du dir die Daten direkt auf der Google Trends Webseite besorgen kannst. Die Daten kannst du dann zum Beispiel in einem Tabellenkalkulationstool wie Excel oder Google Spreadsheets, oder einem andern Datenanalyse Tool verwenden. Im Prinzip könntest du sogar direkt die Bilder von der Google Trends Webseite verwenden. \n",
    "\n",
    "Wenn du noch nie mit Python und/oder Jupyter Notebooks gearbeitet hast, ist diese Umgebung hier erstmal neu für dich. Zwischen dem Text befinden sich sogenannte Code Zellen, diese sehen so aus:\n",
    "\n",
    "![Code Zelle](Code_Zelle.png)\n",
    "\n",
    "In diesen kannst du Python Code schreiben und ausführen. Wenn du nicht vor hast, Python für diese Challenge zu verwenden, kannst du so vorgehen: Gehe direkt zum Abschnitt \"Google Trends Webseite\". Dort findest du eine kurze Beschreibung, wie du dir die Daten von der Webseite direkt besorgen kannst. Du kannst dir natürlich auch einfach die Daten dort besorgen und die Daten hier in deine Umgebung hochladen. \n",
    "\n",
    "Jetzt erstmal viel Spaß mit der Challenge! "
   ]
  },
  {
   "cell_type": "markdown",
   "id": "74fe41a1-ed08-41a4-ad36-71c85b01e981",
   "metadata": {},
   "source": [
    "## Die Challenge \n",
    "\n",
    "### Einführung\n",
    "\n",
    "Bis vor kurzer Zeit war NVIDIA nur Computerspiel-Fans ein Begriff. In jüngster Zeit ist NVIDIA jedoch in aller Munde und vor kurzem auch in den elitären Kreis der Firmen mit einer Marktkapitalisierung über 3 Billionen US Dollar vorgestoßen. Das ist mit Apple und Microsoft vorher erst zwei anderen Firmen gelungen. NVIDIA war zwischenzeitlich auch das \"teuerste Unternehmen nach Marktkapitalisierung\" und hatte somit kurzzeitig Apple und Microsoft auf die Plätze 2 und 3 verwiesen. \n",
    "\n",
    "Der rapide Anstieg an Marktkapitaliserung oder kurz Wert von Firmen steht oft im engen Zusammenhang mit gesellschaftlichen und technologischen Veränderungen. Der Aufstieg von Microsoft steht im engen Zusammenhang mit dem Siegeszug der Personal Computer um die Jahrtausendwende und Apple's Aufstieg gelang im Aufwind der Entwicklung mehrere, neuer Geräte, wie dem Ipod, dem Iphone und dem Ipad in den frühen 2010er Jahren. \n",
    "\n",
    "Ist dies auch der Fall mit NVIDIA? Und können wir dies auch in den Google Search Trends ablesen? Darum soll es in dieser Challenge gehen!\n",
    "\n",
    "\n",
    "\n",
    "### Aufgabe\n",
    "\n",
    "Untersuche auf Basis der Google Search Trends, welche Entwicklungen mit dem rapiden Aufstieg der NVIDIA Aktie stehen!  \n",
    "\n",
    "Wir werden dir im folgenden zeigen, wie du über die API von Google Trends Daten zu Google Suchanfragen bekommen kannst. Diese Daten kannst du dann hier direkt ggfs mit Python weiterverarbeiten oder direkt in eine CSV speichern und mit einem anderen Tool deiner Wahl verarbeiten. \n",
    "\n",
    "Am Schluss sollst du eine kurze Präsentation erarbeiten, die basierend auf den Daten und den daraus gewonnenen Erkenntnissen argumentiert, welche Entwicklungen zum rapiden Anstieg der NVIDIA Aktie geführt haben. \n",
    "\n",
    "Eure eingereichten Präsentationen werden dann von uns begutachtet und die überzeugendsten Präsentationen werden von uns dann mit Preisen bedacht!\n",
    "\n",
    "Viel Spaß!\n"
   ]
  },
  {
   "cell_type": "markdown",
   "id": "1d94ed94-02ef-4ff6-9b18-b147900ec9b5",
   "metadata": {},
   "source": [
    "### Datenbeschaffung\n",
    "\n",
    "#### PyTrends\n",
    "\n",
    "Im folgenden werden wir die Library [PyTrends](https://pypi.org/project/pytrends/) benutzen um uns die Daten zu den Google Suchanfragen zu verschaffen. pytrends ist eine Programm-Bibliothek bzw. ein Modul der Programmiersprache Python. Wenn du das erste Mal an der Challenge arbeitest, musst du einmal die folgende Zelle ausführen, um pytrends zu installieren"
   ]
  },
  {
   "cell_type": "code",
   "execution_count": 5,
   "id": "7fa2fad2-cd5c-4b9e-abaf-32b9fc749ff2",
   "metadata": {},
   "outputs": [
    {
     "name": "stdout",
     "output_type": "stream",
     "text": [
      "Requirement already satisfied: pytrends in /Users/canis/Library/CloudStorage/OneDrive-Persönlich/Dokumente/programme/coding/github/toolbox-datenkompetenz/.venv/lib/python3.11/site-packages (4.9.2)\n",
      "Requirement already satisfied: requests>=2.0 in /Users/canis/Library/CloudStorage/OneDrive-Persönlich/Dokumente/programme/coding/github/toolbox-datenkompetenz/.venv/lib/python3.11/site-packages (from pytrends) (2.32.3)\n",
      "Requirement already satisfied: pandas>=0.25 in /Users/canis/Library/CloudStorage/OneDrive-Persönlich/Dokumente/programme/coding/github/toolbox-datenkompetenz/.venv/lib/python3.11/site-packages (from pytrends) (2.2.3)\n",
      "Requirement already satisfied: lxml in /Users/canis/Library/CloudStorage/OneDrive-Persönlich/Dokumente/programme/coding/github/toolbox-datenkompetenz/.venv/lib/python3.11/site-packages (from pytrends) (5.3.0)\n",
      "Requirement already satisfied: numpy>=1.23.2 in /Users/canis/Library/CloudStorage/OneDrive-Persönlich/Dokumente/programme/coding/github/toolbox-datenkompetenz/.venv/lib/python3.11/site-packages (from pandas>=0.25->pytrends) (2.1.3)\n",
      "Requirement already satisfied: python-dateutil>=2.8.2 in /Users/canis/Library/CloudStorage/OneDrive-Persönlich/Dokumente/programme/coding/github/toolbox-datenkompetenz/.venv/lib/python3.11/site-packages (from pandas>=0.25->pytrends) (2.9.0.post0)\n",
      "Requirement already satisfied: pytz>=2020.1 in /Users/canis/Library/CloudStorage/OneDrive-Persönlich/Dokumente/programme/coding/github/toolbox-datenkompetenz/.venv/lib/python3.11/site-packages (from pandas>=0.25->pytrends) (2024.2)\n",
      "Requirement already satisfied: tzdata>=2022.7 in /Users/canis/Library/CloudStorage/OneDrive-Persönlich/Dokumente/programme/coding/github/toolbox-datenkompetenz/.venv/lib/python3.11/site-packages (from pandas>=0.25->pytrends) (2024.2)\n",
      "Requirement already satisfied: charset-normalizer<4,>=2 in /Users/canis/Library/CloudStorage/OneDrive-Persönlich/Dokumente/programme/coding/github/toolbox-datenkompetenz/.venv/lib/python3.11/site-packages (from requests>=2.0->pytrends) (3.4.0)\n",
      "Requirement already satisfied: idna<4,>=2.5 in /Users/canis/Library/CloudStorage/OneDrive-Persönlich/Dokumente/programme/coding/github/toolbox-datenkompetenz/.venv/lib/python3.11/site-packages (from requests>=2.0->pytrends) (3.10)\n",
      "Requirement already satisfied: urllib3<3,>=1.21.1 in /Users/canis/Library/CloudStorage/OneDrive-Persönlich/Dokumente/programme/coding/github/toolbox-datenkompetenz/.venv/lib/python3.11/site-packages (from requests>=2.0->pytrends) (2.2.3)\n",
      "Requirement already satisfied: certifi>=2017.4.17 in /Users/canis/Library/CloudStorage/OneDrive-Persönlich/Dokumente/programme/coding/github/toolbox-datenkompetenz/.venv/lib/python3.11/site-packages (from requests>=2.0->pytrends) (2024.8.30)\n",
      "Requirement already satisfied: six>=1.5 in /Users/canis/Library/CloudStorage/OneDrive-Persönlich/Dokumente/programme/coding/github/toolbox-datenkompetenz/.venv/lib/python3.11/site-packages (from python-dateutil>=2.8.2->pandas>=0.25->pytrends) (1.16.0)\n"
     ]
    }
   ],
   "source": [
    "!pip install pytrends"
   ]
  },
  {
   "cell_type": "markdown",
   "id": "a4d713e1-372c-44ba-9402-350fd1092efa",
   "metadata": {},
   "source": [
    "Wenn pytrends nun erfolgreich installiert ist, können wir uns nun den Daten widmen. Dazu laden wir zunächst ein paar Python Bibliotheken. Wenn du nicht mit Python arbeiten willst und dich auch nicht dafür interessierst, was genau bei Python passiert, kannst du die Details ignorieren, einfach die Zelle ausführen und weiter machen. \n"
   ]
  },
  {
   "cell_type": "code",
   "execution_count": 6,
   "id": "2a00b473-df7b-4d69-8c88-7c1c7c35c7da",
   "metadata": {},
   "outputs": [],
   "source": [
    "# import modules\n",
    "import requests\n",
    "import matplotlib.pyplot as plt\n",
    "from pytrends.request import TrendReq #  um die Daten abzurufen"
   ]
  },
  {
   "cell_type": "code",
   "execution_count": 7,
   "id": "94cbdd16-121c-4c74-a055-c771bef88f7f",
   "metadata": {},
   "outputs": [],
   "source": [
    "# Verbindung zur google API herstellen\n",
    "pytrends = TrendReq(hl='de-DE', tz=360)\n",
    "\n",
    "\n",
    "# Liste, der Keywoerter. Füge maximal 4 weitere hinzu\n",
    "kw_list = [\"NVIDIA\"]\n",
    "\n",
    "\n",
    "pytrends.build_payload(kw_list, \n",
    "                        cat=0, \n",
    "                        timeframe='today 5-y', \n",
    "                        geo='', \n",
    "                        gprop=''\n",
    "                       )"
   ]
  },
  {
   "cell_type": "code",
   "execution_count": 8,
   "id": "12153a6b-1252-4f3d-ab68-50d4bfd21c34",
   "metadata": {},
   "outputs": [
    {
     "name": "stderr",
     "output_type": "stream",
     "text": [
      "/Users/canis/Library/CloudStorage/OneDrive-Persönlich/Dokumente/programme/coding/github/toolbox-datenkompetenz/.venv/lib/python3.11/site-packages/pytrends/request.py:260: FutureWarning: Downcasting object dtype arrays on .fillna, .ffill, .bfill is deprecated and will change in a future version. Call result.infer_objects(copy=False) instead. To opt-in to the future behavior, set `pd.set_option('future.no_silent_downcasting', True)`\n",
      "  df = df.fillna(False)\n"
     ]
    },
    {
     "data": {
      "text/html": [
       "<div>\n",
       "<style scoped>\n",
       "    .dataframe tbody tr th:only-of-type {\n",
       "        vertical-align: middle;\n",
       "    }\n",
       "\n",
       "    .dataframe tbody tr th {\n",
       "        vertical-align: top;\n",
       "    }\n",
       "\n",
       "    .dataframe thead th {\n",
       "        text-align: right;\n",
       "    }\n",
       "</style>\n",
       "<table border=\"1\" class=\"dataframe\">\n",
       "  <thead>\n",
       "    <tr style=\"text-align: right;\">\n",
       "      <th></th>\n",
       "      <th>NVIDIA</th>\n",
       "      <th>isPartial</th>\n",
       "    </tr>\n",
       "    <tr>\n",
       "      <th>date</th>\n",
       "      <th></th>\n",
       "      <th></th>\n",
       "    </tr>\n",
       "  </thead>\n",
       "  <tbody>\n",
       "    <tr>\n",
       "      <th>2019-11-24</th>\n",
       "      <td>32</td>\n",
       "      <td>False</td>\n",
       "    </tr>\n",
       "    <tr>\n",
       "      <th>2019-12-01</th>\n",
       "      <td>31</td>\n",
       "      <td>False</td>\n",
       "    </tr>\n",
       "    <tr>\n",
       "      <th>2019-12-08</th>\n",
       "      <td>33</td>\n",
       "      <td>False</td>\n",
       "    </tr>\n",
       "    <tr>\n",
       "      <th>2019-12-15</th>\n",
       "      <td>33</td>\n",
       "      <td>False</td>\n",
       "    </tr>\n",
       "    <tr>\n",
       "      <th>2019-12-22</th>\n",
       "      <td>34</td>\n",
       "      <td>False</td>\n",
       "    </tr>\n",
       "    <tr>\n",
       "      <th>...</th>\n",
       "      <td>...</td>\n",
       "      <td>...</td>\n",
       "    </tr>\n",
       "    <tr>\n",
       "      <th>2024-10-27</th>\n",
       "      <td>57</td>\n",
       "      <td>False</td>\n",
       "    </tr>\n",
       "    <tr>\n",
       "      <th>2024-11-03</th>\n",
       "      <td>61</td>\n",
       "      <td>False</td>\n",
       "    </tr>\n",
       "    <tr>\n",
       "      <th>2024-11-10</th>\n",
       "      <td>67</td>\n",
       "      <td>False</td>\n",
       "    </tr>\n",
       "    <tr>\n",
       "      <th>2024-11-17</th>\n",
       "      <td>88</td>\n",
       "      <td>False</td>\n",
       "    </tr>\n",
       "    <tr>\n",
       "      <th>2024-11-24</th>\n",
       "      <td>58</td>\n",
       "      <td>True</td>\n",
       "    </tr>\n",
       "  </tbody>\n",
       "</table>\n",
       "<p>262 rows × 2 columns</p>\n",
       "</div>"
      ],
      "text/plain": [
       "            NVIDIA  isPartial\n",
       "date                         \n",
       "2019-11-24      32      False\n",
       "2019-12-01      31      False\n",
       "2019-12-08      33      False\n",
       "2019-12-15      33      False\n",
       "2019-12-22      34      False\n",
       "...            ...        ...\n",
       "2024-10-27      57      False\n",
       "2024-11-03      61      False\n",
       "2024-11-10      67      False\n",
       "2024-11-17      88      False\n",
       "2024-11-24      58       True\n",
       "\n",
       "[262 rows x 2 columns]"
      ]
     },
     "execution_count": 8,
     "metadata": {},
     "output_type": "execute_result"
    },
    {
     "data": {
      "image/png": "[encoded data removed]",
      "text/plain": [
       "<Figure size 640x480 with 1 Axes>"
      ]
     },
     "metadata": {},
     "output_type": "display_data"
    }
   ],
   "source": [
    "# interest over time\n",
    "iot = pytrends.interest_over_time()\n",
    "iot.plot()\n",
    "iot"
   ]
  },
  {
   "cell_type": "markdown",
   "id": "41509a8e-bc11-4176-8920-4f6d25f90b2a",
   "metadata": {},
   "source": [
    "Bei pytrends handelt es sich nicht um eine offizielle Google API. Dadurch kann es passieren, dass eure Anfragen abgelehnt werden. Speziell folgender Fehler kann auftreten.\n",
    "\n",
    "![TooManyRequests](TooManyRequests.png)\n",
    "\n",
    "Dieser Fehler bezieht sich speziell darauf, dass eure Anfrage abgelehnt wurde, weil euer Verhalten als verdächtig eingestuft wurde. Speziell besteht der Verdacht, dass das die Anfrage nicht von einem Menschen erstellt wurde, sondern von einem \"Bot\". Als [Bot](https://de.wikipedia.org/wiki/Bot) bezeichnet man ein Computerprogram, das weitestgehend autark und ohne direkte Kontrolle von Menschen aggiert. \n",
    "\n",
    "Wir können diesen Fehler versuchen zu umgehen, in dem wir Google versuchen zu überzeugen, dass wir kein Bot sind. \n",
    "\n",
    "Dazu müssen wir zunächst zur Google Trends Webseite gehen. Dort könnt ihr euch die Daten entweder direkt ziehen oder aber die benötigten Informationen holen, um die Ablehnung der Anfragen durch Google zu verhindern. "
   ]
  },
  {
   "cell_type": "markdown",
   "id": "60c7f218-5cac-46ff-81f3-1598c16393cc",
   "metadata": {},
   "source": [
    "#### Google Trends Webseite\n",
    "\n",
    "\n",
    "Ihr könnt direkt zur [Google Trends](https://trends.google.de/trends/) Webseite gehen. \n",
    "\n",
    "![GoogleTrends](Google_trends_1.png)\n",
    "\n",
    "Dort werden euch in der Regel schon einige Suchbegriffe und Trends vorgeschlagen, die aktuelle Relevanz besitzen. \n",
    "Gebt in das Feld \"NVIDIA\" ein und drückt den \"Entdecken\" Button.\n",
    "\n",
    "Dann sollte die Webseite ungefähr so aussehen: \n",
    "![GoogleTrends](Google_trends.png)\n",
    "\n",
    "Ihr könntet nun hier direkt Zeitraum, Referenzbegriffe, etc... eingeben und das kleine Download Symbol benutzen, um euch die Daten als CSV Datei herunterzuladen. Dann könnt ihr die Daten hier hochladen und hier benutzen, oder mit dem Datenanalyse/-Visualisierungstool eurer Wahl verwenden. \n",
    "\n",
    "Kommen wir aber nun dazu, was wir tun können um den 429 Fehler von pytrends zu umgehen. Die folgende Anleitung setzt vorraus, dass du einen **Google Account besitzt und mit diesem auf deinem Browser angemeldet bist**. \n",
    "\n",
    "Wenn du auf eine Webseite gehst, übermittelt dein Browser einige Informationen an die Webseite. Diese Informationen werden verwendet um die Webseite besser anzuzeigen. Zu den Informationen gehört zum Beispiel welchen Browser du verwendest und wie groß das Fenster des Browsers ist. Wenn man Python Libraries wie requests und pytrends verwendet, übermitteln sie in der Regel diese Informationen nicht, da hier die Anfrage nicht von einem Webbrowser stammt. Wird diese Information also nicht mitübermittelt, kann es sein, dass Google deine Anfrage abblockt. \n",
    "\n",
    "Wir können nun also versuchen diese Information mit zu übersenden, damit unsere Anfrage nicht abgewiesen wird. Dazu müssen wir uns den [HTTP Header](https://www.seobility.net/de/wiki/HTTP_Header) unseres Browsers besorgen. \n",
    "\n",
    "Auf der Webseite, die oben gezeigt wird, auf der ihr Vergleichswerte, Zeitraum, etc... eingeben könnt, müsst ihr die Development Tools eures Browsers öffnen. Es folgt eine kurze Übersicht an beliebten Browsern und wir man die Dev Tools öffnet: \n",
    "\n",
    "* [Google Chrome Dokumentation](https://developer.chrome.com/docs/devtools/open?hl=de)\n",
    "* [Mozilla Firefox Dokumentation](https://firefox-source-docs.mozilla.org/devtools-user/page_inspector/how_to/open_the_inspector/index.html)\n",
    "* [Generelle Übersicht](https://support.monday.com/hc/de/articles/360002197259-So-%C3%B6ffnet-man-die-Entwicklerkonsole)\n",
    "\n",
    "Mit diesen Tools können wir aufschlüsseln, welche Informationen dein Browser an Google bei einer Trend Anfrage sendet. Wenn du also den Webinspector/ die Dev Tools aktiviert hast, musst du zunächst auf den \"Network\" Tab klicken und dann einmal eine Anfrage stellen. Im Network Tab sollte nun ein sog. GET Request auftauchen. Auf diesen einmal rechtsklicken und als \"cURL\" kopieren. \n",
    "\n",
    "** Achtung: der cURL und die daraus konvertierten Informationen können sensible Daten über deinen Computer und deinen Google Account enthalten. Diese könnten benutzt werden, um dich zu identifizieren oder Zugang zu deinem Computer oder Google Account zu erhalten. Gehe entsprechend vorsichtig mit diesen Informationen um! Bedenke, dass diese Informationen auch in diesem Notebook unverschlüsselt gespeichert werden. Du solltest daher darüber nachdenken, die entsprechenden Informationen wieder aus dem Notebook zu löschen, wenn du mit den Anfragen fertig bist. Wir übernehmen keine Verantwortung für entstandende Schäden.**\n",
    "\n",
    "Bei Google Chrome sieht das zum Beispiel so aus: \n",
    "\n",
    "![cURL](cURL.png)\n",
    "\n",
    "Jetzt müssen wir noch den cURL umwandeln, dazu kannst du zum Beispiel diese Webseite benutzen: [CurlConverter](https://curlconverter.com/).\n",
    "\n",
    "Du solltest ein dictionary namens \"headers\" erhalten. Dieses musst du nun noch an entsprechender Stelle in den Code unten kopieren. \n",
    "\n"
   ]
  },
  {
   "cell_type": "code",
   "execution_count": 9,
   "id": "381cd665-aab7-44ae-ac09-62defcaa3d71",
   "metadata": {},
   "outputs": [],
   "source": [
    "from pytrends.request import TrendReq as UTrendReq\n",
    "GET_METHOD='get'\n",
    "\n",
    "import requests\n",
    "\n",
    "headers = { # Hier kommt dein Code hin!\n",
    "}\n",
    "\n",
    "\n",
    "class TrendReq(UTrendReq):\n",
    "    def _get_data(self, url, method=GET_METHOD, trim_chars=0, **kwargs):\n",
    "        return super()._get_data(url, method=GET_METHOD, trim_chars=trim_chars, headers=headers, **kwargs)\n"
   ]
  },
  {
   "cell_type": "markdown",
   "id": "3e3d3c62-4a5b-4638-94b7-dc69d847b4f6",
   "metadata": {},
   "source": [
    "Wir können uns nun den Daten widmen. Im nächsten Code-Feld  haben wir dir den benötigten Code vorgegeben um eine Anfrage über pytrends zu generieren. In kw_list kannst du eine Liste von maximal 5 Keywords übermitteln, die bezüglich der Häufigkeit an Suchanfragen verglichen werden. \n",
    "\n",
    "pytrends.build enthält mehrere Argumente, die du benutzen kannst, um deine Anfrage anzupassen. timeframe definiert zum Beispiel den betrachteten Zeitraum. [Hier](https://pypi.org/project/pytrends/#common-api-parameters) kannst du mehr über die Parameter erfahren. "
   ]
  },
  {
   "cell_type": "code",
   "execution_count": 10,
   "id": "d89a3fc1-bd38-4c8d-85ae-d17458789ba6",
   "metadata": {},
   "outputs": [],
   "source": [
    "# Verbindung zur google API herstellen\n",
    "pytrends = TrendReq(hl='de-DE', tz=360)\n",
    "\n",
    "\n",
    "# Liste, der Keywoerter. Füge maximal 4 weitere hinzu\n",
    "kw_list = [\"NVIDIA\"]\n",
    "\n",
    "\n",
    "pytrends.build_payload(kw_list, \n",
    "                        cat=0, \n",
    "                        timeframe='today 5-y', \n",
    "                        geo='', \n",
    "                        gprop=''\n",
    "                       )"
   ]
  },
  {
   "cell_type": "markdown",
   "id": "04d4f7c7-7d32-4b62-b096-5e3d6c803dec",
   "metadata": {},
   "source": [
    "Nun wollen wir uns die zeitliche Entwicklung der Suchanfragen anschauen. Dafür gibt es die Methode \"interest_over_time\". Wir können uns gleich mal die Daten ausgeben lassen. Du solltest eine Tabelle bekommen\n",
    "\n",
    "| date   |      NVIDIA      |  Weiterer Suchbegriff |isPartial|\n",
    "|----------|:-------------:|------:| -----:|\n",
    "| Datum 1 |  2 | 4 | False|\n",
    "| Datum 2 |    5   |   44 | False|\n",
    "| Datum 3 | 5 |    4 | False|"
   ]
  },
  {
   "cell_type": "code",
   "execution_count": 11,
   "id": "7fbc42fe-3ba8-4134-b25b-e9bb01536403",
   "metadata": {},
   "outputs": [
    {
     "name": "stderr",
     "output_type": "stream",
     "text": [
      "/Users/canis/Library/CloudStorage/OneDrive-Persönlich/Dokumente/programme/coding/github/toolbox-datenkompetenz/.venv/lib/python3.11/site-packages/pytrends/request.py:260: FutureWarning: Downcasting object dtype arrays on .fillna, .ffill, .bfill is deprecated and will change in a future version. Call result.infer_objects(copy=False) instead. To opt-in to the future behavior, set `pd.set_option('future.no_silent_downcasting', True)`\n",
      "  df = df.fillna(False)\n"
     ]
    },
    {
     "data": {
      "text/html": [
       "<div>\n",
       "<style scoped>\n",
       "    .dataframe tbody tr th:only-of-type {\n",
       "        vertical-align: middle;\n",
       "    }\n",
       "\n",
       "    .dataframe tbody tr th {\n",
       "        vertical-align: top;\n",
       "    }\n",
       "\n",
       "    .dataframe thead th {\n",
       "        text-align: right;\n",
       "    }\n",
       "</style>\n",
       "<table border=\"1\" class=\"dataframe\">\n",
       "  <thead>\n",
       "    <tr style=\"text-align: right;\">\n",
       "      <th></th>\n",
       "      <th>NVIDIA</th>\n",
       "      <th>isPartial</th>\n",
       "    </tr>\n",
       "    <tr>\n",
       "      <th>date</th>\n",
       "      <th></th>\n",
       "      <th></th>\n",
       "    </tr>\n",
       "  </thead>\n",
       "  <tbody>\n",
       "    <tr>\n",
       "      <th>2019-11-24</th>\n",
       "      <td>32</td>\n",
       "      <td>False</td>\n",
       "    </tr>\n",
       "    <tr>\n",
       "      <th>2019-12-01</th>\n",
       "      <td>31</td>\n",
       "      <td>False</td>\n",
       "    </tr>\n",
       "    <tr>\n",
       "      <th>2019-12-08</th>\n",
       "      <td>33</td>\n",
       "      <td>False</td>\n",
       "    </tr>\n",
       "    <tr>\n",
       "      <th>2019-12-15</th>\n",
       "      <td>33</td>\n",
       "      <td>False</td>\n",
       "    </tr>\n",
       "    <tr>\n",
       "      <th>2019-12-22</th>\n",
       "      <td>34</td>\n",
       "      <td>False</td>\n",
       "    </tr>\n",
       "    <tr>\n",
       "      <th>...</th>\n",
       "      <td>...</td>\n",
       "      <td>...</td>\n",
       "    </tr>\n",
       "    <tr>\n",
       "      <th>2024-10-27</th>\n",
       "      <td>57</td>\n",
       "      <td>False</td>\n",
       "    </tr>\n",
       "    <tr>\n",
       "      <th>2024-11-03</th>\n",
       "      <td>61</td>\n",
       "      <td>False</td>\n",
       "    </tr>\n",
       "    <tr>\n",
       "      <th>2024-11-10</th>\n",
       "      <td>67</td>\n",
       "      <td>False</td>\n",
       "    </tr>\n",
       "    <tr>\n",
       "      <th>2024-11-17</th>\n",
       "      <td>88</td>\n",
       "      <td>False</td>\n",
       "    </tr>\n",
       "    <tr>\n",
       "      <th>2024-11-24</th>\n",
       "      <td>58</td>\n",
       "      <td>True</td>\n",
       "    </tr>\n",
       "  </tbody>\n",
       "</table>\n",
       "<p>262 rows × 2 columns</p>\n",
       "</div>"
      ],
      "text/plain": [
       "            NVIDIA  isPartial\n",
       "date                         \n",
       "2019-11-24      32      False\n",
       "2019-12-01      31      False\n",
       "2019-12-08      33      False\n",
       "2019-12-15      33      False\n",
       "2019-12-22      34      False\n",
       "...            ...        ...\n",
       "2024-10-27      57      False\n",
       "2024-11-03      61      False\n",
       "2024-11-10      67      False\n",
       "2024-11-17      88      False\n",
       "2024-11-24      58       True\n",
       "\n",
       "[262 rows x 2 columns]"
      ]
     },
     "execution_count": 11,
     "metadata": {},
     "output_type": "execute_result"
    }
   ],
   "source": [
    "# interest over time\n",
    "iot = pytrends.interest_over_time()\n",
    "iot\n"
   ]
  },
  {
   "cell_type": "markdown",
   "id": "2ab83ce9-a1f3-416d-8132-4bc4f068be38",
   "metadata": {},
   "source": [
    "Wir können uns die Daten auch direkt visualisieren lassen. Dazu kannst du die nächste Zelle ausführen. "
   ]
  },
  {
   "cell_type": "code",
   "execution_count": 12,
   "id": "9dae94c7-632f-4408-a22f-c03d74ecd899",
   "metadata": {},
   "outputs": [
    {
     "data": {
      "text/plain": [
       "<Axes: xlabel='date'>"
      ]
     },
     "execution_count": 12,
     "metadata": {},
     "output_type": "execute_result"
    },
    {
     "data": {
      "image/png": "[encoded data removed]",
      "text/plain": [
       "<Figure size 640x480 with 1 Axes>"
      ]
     },
     "metadata": {},
     "output_type": "display_data"
    }
   ],
   "source": [
    "iot.plot()"
   ]
  },
  {
   "cell_type": "markdown",
   "id": "723e7026-f30a-4ae6-8d4d-0077f1667a1b",
   "metadata": {},
   "source": [
    "## Die Challenge abschliessen\n",
    "\n",
    "Du hast nun alles was du braucht, um die Challenge zu bestreiten. Erforsche die Suchanfragen Daten und finde heraus, welche Faktoren mit dem Aufstieg der NVIDIA Aktie korrelieren und dieses vielleicht sogar beeinflussen. Erstelle  eine kurze Präsentation und reiche sie als PDF ein. Eine Jury wird die eingereichten Präsentationen bewerten, hierbei werden neben der Überzeugungskraft der Präsentation auch Originalität und Kreativität der Einreichungen in betracht gezogen. \n",
    "\n",
    "Wir wünschen dir viel Spaß und Erfolg! "
   ]
  },
  {
   "cell_type": "code",
   "execution_count": null,
   "id": "1bcbca46-0846-4050-9112-abe264fd6244",
   "metadata": {},
   "outputs": [],
   "source": []
  }
 ],
 "metadata": {
  "kernelspec": {
   "display_name": ".venv",
   "language": "python",
   "name": "python3"
  },
  "language_info": {
   "codemirror_mode": {
    "name": "ipython",
    "version": 3
   },
   "file_extension": ".py",
   "mimetype": "text/x-python",
   "name": "python",
   "nbconvert_exporter": "python",
   "pygments_lexer": "ipython3",
   "version": "3.11.5"
  }
 },
 "nbformat": 4,
 "nbformat_minor": 5
}
